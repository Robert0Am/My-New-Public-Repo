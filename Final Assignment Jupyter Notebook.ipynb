{
 "cells": [
  {
   "cell_type": "markdown",
   "id": "8af2b80d",
   "metadata": {},
   "source": [
    "Data Science Tools and Ecosystems\n"
   ]
  },
  {
   "cell_type": "markdown",
   "id": "fa8f993c",
   "metadata": {},
   "source": [
    "In this notebook, Data Science Tools and Ecosystem are summarized."
   ]
  },
  {
   "cell_type": "markdown",
   "id": "82241f62",
   "metadata": {},
   "source": [
    "**Objectives:**\n",
    "- List of popular languages that for Data Scientist\n",
    "- List of commonly used libraries for Data Scientist\n",
    "- List of commonly used Data Science Tools"
   ]
  },
  {
   "cell_type": "markdown",
   "id": "33fb1968",
   "metadata": {},
   "source": [
    "Some of the popular languages that Data Scientists use are:"
   ]
  },
  {
   "cell_type": "markdown",
   "id": "50120301",
   "metadata": {},
   "source": [
    "1. Python\n",
    "2. C++\n",
    "3. R\n",
    "4. SQL\n"
   ]
  },
  {
   "cell_type": "markdown",
   "id": "97434083",
   "metadata": {},
   "source": [
    "Some of the commonly used libraries used by Data Scientists include:"
   ]
  },
  {
   "cell_type": "markdown",
   "id": "0bb5b1a0",
   "metadata": {},
   "source": [
    "1. Pandas\n",
    "2. Matplotlib\n",
    "3. Scikit-learn\n",
    "4. TensorFlow"
   ]
  },
  {
   "cell_type": "markdown",
   "id": "613c6266",
   "metadata": {},
   "source": [
    "|Data Science Tools|\n",
    "|  --------------  |\n",
    "|Jupyter Notebook|\n",
    "|VS Code|\n",
    "|Google Colab|"
   ]
  },
  {
   "cell_type": "markdown",
   "id": "10159df2",
   "metadata": {},
   "source": [
    "### Below are a few examples of evaluating arithmetic expressions in Python"
   ]
  },
  {
   "cell_type": "code",
   "execution_count": 17,
   "id": "57ccabfb",
   "metadata": {},
   "outputs": [
    {
     "data": {
      "text/plain": [
       "17"
      ]
     },
     "execution_count": 17,
     "metadata": {},
     "output_type": "execute_result"
    }
   ],
   "source": [
    "#This is a simple arithmetic expression to multiply then add intergers\n",
    "(3*4)+5"
   ]
  },
  {
   "cell_type": "code",
   "execution_count": 18,
   "id": "9bfe47ed",
   "metadata": {},
   "outputs": [
    {
     "data": {
      "text/plain": [
       "3.3333333333333335"
      ]
     },
     "execution_count": 18,
     "metadata": {},
     "output_type": "execute_result"
    }
   ],
   "source": [
    "#This will convert 200 minutes to hours by dividing by 60\n",
    "200/60"
   ]
  },
  {
   "cell_type": "markdown",
   "id": "bd691ad1",
   "metadata": {},
   "source": [
    "## Author\n",
    "  Robert Amundson"
   ]
  },
  {
   "cell_type": "code",
   "execution_count": null,
   "id": "2f686efa",
   "metadata": {},
   "outputs": [],
   "source": []
  }
 ],
 "metadata": {
  "kernelspec": {
   "display_name": "Python 3 (ipykernel)",
   "language": "python",
   "name": "python3"
  },
  "language_info": {
   "codemirror_mode": {
    "name": "ipython",
    "version": 3
   },
   "file_extension": ".py",
   "mimetype": "text/x-python",
   "name": "python",
   "nbconvert_exporter": "python",
   "pygments_lexer": "ipython3",
   "version": "3.10.11"
  }
 },
 "nbformat": 4,
 "nbformat_minor": 5
}
